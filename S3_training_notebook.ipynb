{
 "cells": [
  {
   "cell_type": "code",
   "execution_count": 1,
   "id": "7bcfa0fff40bcf34",
   "metadata": {
    "collapsed": false,
    "ExecuteTime": {
     "end_time": "2024-06-11T05:30:39.079267Z",
     "start_time": "2024-06-11T05:30:30.917147Z"
    }
   },
   "outputs": [],
   "source": [
    "import torch\n",
    "from torch.utils.data import DataLoader\n",
    "\n",
    "from accelerate import Accelerator, DistributedType\n",
    "from datasets import load_dataset, load_metric\n",
    "from transformers import (\n",
    "    AdamW,\n",
    "    AutoModelForSequenceClassification,\n",
    "    AutoTokenizer,\n",
    "    get_linear_schedule_with_warmup,\n",
    "    set_seed,\n",
    ")\n",
    "\n",
    "from tqdm.auto import tqdm\n",
    "\n",
    "import datasets\n",
    "import transformers\n",
    "     "
   ]
  },
  {
   "cell_type": "code",
   "outputs": [],
   "source": [
    "from config import model_checkpoint "
   ],
   "metadata": {
    "collapsed": true,
    "ExecuteTime": {
     "end_time": "2024-06-11T05:31:42.693873Z",
     "start_time": "2024-06-11T05:31:42.650993Z"
    }
   },
   "id": "initial_id",
   "execution_count": 2
  },
  {
   "cell_type": "code",
   "outputs": [
    {
     "data": {
      "text/plain": "Downloading readme:   0%|          | 0.00/35.3k [00:00<?, ?B/s]",
      "application/vnd.jupyter.widget-view+json": {
       "version_major": 2,
       "version_minor": 0,
       "model_id": "8bb2bde8b831403ab22c3faed4d3f9f0"
      }
     },
     "metadata": {},
     "output_type": "display_data"
    },
    {
     "data": {
      "text/plain": "Downloading data:   0%|          | 0.00/52.2M [00:00<?, ?B/s]",
      "application/vnd.jupyter.widget-view+json": {
       "version_major": 2,
       "version_minor": 0,
       "model_id": "1133d426c4d4412286741eb4cb970e33"
      }
     },
     "metadata": {},
     "output_type": "display_data"
    },
    {
     "data": {
      "text/plain": "Downloading data:   0%|          | 0.00/1.21M [00:00<?, ?B/s]",
      "application/vnd.jupyter.widget-view+json": {
       "version_major": 2,
       "version_minor": 0,
       "model_id": "1599c2809b4049a7955b6205544e42cd"
      }
     },
     "metadata": {},
     "output_type": "display_data"
    },
    {
     "data": {
      "text/plain": "Downloading data:   0%|          | 0.00/1.25M [00:00<?, ?B/s]",
      "application/vnd.jupyter.widget-view+json": {
       "version_major": 2,
       "version_minor": 0,
       "model_id": "20f775e1e3bb405a9c29e51fbd1c3742"
      }
     },
     "metadata": {},
     "output_type": "display_data"
    },
    {
     "data": {
      "text/plain": "Downloading data:   0%|          | 0.00/1.22M [00:00<?, ?B/s]",
      "application/vnd.jupyter.widget-view+json": {
       "version_major": 2,
       "version_minor": 0,
       "model_id": "f9834ae81c634ea99fd23c65db501652"
      }
     },
     "metadata": {},
     "output_type": "display_data"
    },
    {
     "data": {
      "text/plain": "Downloading data:   0%|          | 0.00/1.26M [00:00<?, ?B/s]",
      "application/vnd.jupyter.widget-view+json": {
       "version_major": 2,
       "version_minor": 0,
       "model_id": "7a7509ec910c4a3db2d52c15836bf418"
      }
     },
     "metadata": {},
     "output_type": "display_data"
    },
    {
     "data": {
      "text/plain": "Generating train split:   0%|          | 0/392702 [00:00<?, ? examples/s]",
      "application/vnd.jupyter.widget-view+json": {
       "version_major": 2,
       "version_minor": 0,
       "model_id": "b592b12eced04cbe82a0e7bbfd46ea5e"
      }
     },
     "metadata": {},
     "output_type": "display_data"
    },
    {
     "data": {
      "text/plain": "Generating validation_matched split:   0%|          | 0/9815 [00:00<?, ? examples/s]",
      "application/vnd.jupyter.widget-view+json": {
       "version_major": 2,
       "version_minor": 0,
       "model_id": "56c0695b1aaa488abadff7b37dcbac49"
      }
     },
     "metadata": {},
     "output_type": "display_data"
    },
    {
     "data": {
      "text/plain": "Generating validation_mismatched split:   0%|          | 0/9832 [00:00<?, ? examples/s]",
      "application/vnd.jupyter.widget-view+json": {
       "version_major": 2,
       "version_minor": 0,
       "model_id": "b4f123d73717476aad19bd749b1d0709"
      }
     },
     "metadata": {},
     "output_type": "display_data"
    },
    {
     "data": {
      "text/plain": "Generating test_matched split:   0%|          | 0/9796 [00:00<?, ? examples/s]",
      "application/vnd.jupyter.widget-view+json": {
       "version_major": 2,
       "version_minor": 0,
       "model_id": "41a08dcb9fca4722b46b9792159692ed"
      }
     },
     "metadata": {},
     "output_type": "display_data"
    },
    {
     "data": {
      "text/plain": "Generating test_mismatched split:   0%|          | 0/9847 [00:00<?, ? examples/s]",
      "application/vnd.jupyter.widget-view+json": {
       "version_major": 2,
       "version_minor": 0,
       "model_id": "fc5f30ac26de4b1c8e648be690c51fb9"
      }
     },
     "metadata": {},
     "output_type": "display_data"
    }
   ],
   "source": [
    "raw_datasets = load_dataset(\"glue\", \"mnli\")"
   ],
   "metadata": {
    "collapsed": false,
    "ExecuteTime": {
     "end_time": "2024-06-11T05:32:22.686270Z",
     "start_time": "2024-06-11T05:31:56.999749Z"
    }
   },
   "id": "1c3aa5a8f8e91dba",
   "execution_count": 3
  },
  {
   "cell_type": "code",
   "outputs": [
    {
     "data": {
      "text/plain": "DatasetDict({\n    train: Dataset({\n        features: ['premise', 'hypothesis', 'label', 'idx'],\n        num_rows: 392702\n    })\n    validation_matched: Dataset({\n        features: ['premise', 'hypothesis', 'label', 'idx'],\n        num_rows: 9815\n    })\n    validation_mismatched: Dataset({\n        features: ['premise', 'hypothesis', 'label', 'idx'],\n        num_rows: 9832\n    })\n    test_matched: Dataset({\n        features: ['premise', 'hypothesis', 'label', 'idx'],\n        num_rows: 9796\n    })\n    test_mismatched: Dataset({\n        features: ['premise', 'hypothesis', 'label', 'idx'],\n        num_rows: 9847\n    })\n})"
     },
     "execution_count": 4,
     "metadata": {},
     "output_type": "execute_result"
    }
   ],
   "source": [
    "raw_datasets"
   ],
   "metadata": {
    "collapsed": false,
    "ExecuteTime": {
     "end_time": "2024-06-11T05:32:22.701562Z",
     "start_time": "2024-06-11T05:32:22.688436Z"
    }
   },
   "id": "c46811360676c94e",
   "execution_count": 4
  },
  {
   "cell_type": "code",
   "outputs": [
    {
     "data": {
      "text/plain": "{'premise': 'Conceptually cream skimming has two basic dimensions - product and geography.',\n 'hypothesis': 'Product and geography are what make cream skimming work. ',\n 'label': 1,\n 'idx': 0}"
     },
     "execution_count": 5,
     "metadata": {},
     "output_type": "execute_result"
    }
   ],
   "source": [
    "\n",
    "raw_datasets[\"train\"][0]"
   ],
   "metadata": {
    "collapsed": false,
    "ExecuteTime": {
     "end_time": "2024-06-11T05:38:17.908192Z",
     "start_time": "2024-06-11T05:38:17.892526Z"
    }
   },
   "id": "aaea37ccaf4ebb26",
   "execution_count": 5
  },
  {
   "cell_type": "code",
   "outputs": [
    {
     "data": {
      "text/plain": "<IPython.core.display.HTML object>",
      "text/html": "<table border=\"1\" class=\"dataframe\">\n  <thead>\n    <tr style=\"text-align: right;\">\n      <th></th>\n      <th>premise</th>\n      <th>hypothesis</th>\n      <th>label</th>\n      <th>idx</th>\n    </tr>\n  </thead>\n  <tbody>\n    <tr>\n      <th>0</th>\n      <td>In the $125,000-$40,000 scenario, for instance, a deficit-neutral solution would increase their taxes by $2,000 or so (compared with now) if they remain single and cut their taxes by about $550 if they get married.</td>\n      <td>Taxes for married people will increase.</td>\n      <td>contradiction</td>\n      <td>133058</td>\n    </tr>\n    <tr>\n      <th>1</th>\n      <td>The Knesset, Israel's parliament, meets in a modern building decorated with major works by Chagall and other artists.</td>\n      <td>The Knesset holds their meetings in a structure decorated by Chagall's works.</td>\n      <td>entailment</td>\n      <td>384168</td>\n    </tr>\n    <tr>\n      <th>2</th>\n      <td>He sat and sipped his tea, idly spouting off technical specs and humorous anecdotes about my life- anecdotes which never happened.</td>\n      <td>He drank his tea and talked about the funny things that happened to him in college.</td>\n      <td>neutral</td>\n      <td>213938</td>\n    </tr>\n    <tr>\n      <th>3</th>\n      <td>Users are those who operate or rely on agency information resources and include the managers and staff responsible for agency policies and programs supported by the acquisition.</td>\n      <td>Users are those who operate on agency information resources and include the managers.</td>\n      <td>entailment</td>\n      <td>101606</td>\n    </tr>\n    <tr>\n      <th>4</th>\n      <td>so but uh of course my husband did everything except my brother's a trim carpenter and he came in you know and did the inside for us and that helped and and uh yes and uh we had to hire course the plumbing and the brick and everything else nothing you know he did everything else</td>\n      <td>We let professionals handle all of the work on the construction.</td>\n      <td>contradiction</td>\n      <td>341465</td>\n    </tr>\n    <tr>\n      <th>5</th>\n      <td>She is perfectly sane, if that is what you mean.</td>\n      <td>The woman states that the man is not mentally ill.</td>\n      <td>contradiction</td>\n      <td>66631</td>\n    </tr>\n    <tr>\n      <th>6</th>\n      <td>it doesn't matter to me</td>\n      <td>I have no opinions on it.</td>\n      <td>neutral</td>\n      <td>119855</td>\n    </tr>\n    <tr>\n      <th>7</th>\n      <td>Long-Term Simulations</td>\n      <td>The computer simulated long-term performance.</td>\n      <td>entailment</td>\n      <td>177279</td>\n    </tr>\n    <tr>\n      <th>8</th>\n      <td>From Agde, take the D51 to Marseillan, another ancient port, initially settled by the Phoenicians.</td>\n      <td>The D51 will bring you from Agde to Marseillan.</td>\n      <td>entailment</td>\n      <td>213292</td>\n    </tr>\n    <tr>\n      <th>9</th>\n      <td>Gingrich rose to fame by destroying a powerful Democrat (House Speaker Jim Wright)</td>\n      <td>Gingrich berated Jim Wright for his extramarital affair and his indecisiveness.</td>\n      <td>neutral</td>\n      <td>328157</td>\n    </tr>\n  </tbody>\n</table>"
     },
     "metadata": {},
     "output_type": "display_data"
    }
   ],
   "source": [
    "\n",
    "import datasets\n",
    "import random\n",
    "import pandas as pd\n",
    "from IPython.display import display, HTML\n",
    "\n",
    "def show_random_elements(dataset, num_examples=10):\n",
    "    assert num_examples <= len(dataset), \"Can't pick more elements than there are in the dataset.\"\n",
    "    picks = []\n",
    "    for _ in range(num_examples):\n",
    "        pick = random.randint(0, len(dataset)-1)\n",
    "        while pick in picks:\n",
    "            pick = random.randint(0, len(dataset)-1)\n",
    "        picks.append(pick)\n",
    "    \n",
    "    df = pd.DataFrame(dataset[picks])\n",
    "    for column, typ in dataset.features.items():\n",
    "        if isinstance(typ, datasets.ClassLabel):\n",
    "            df[column] = df[column].transform(lambda i: typ.names[i])\n",
    "    display(HTML(df.to_html()))\n",
    "\n",
    "show_random_elements(raw_datasets[\"train\"])"
   ],
   "metadata": {
    "collapsed": false,
    "ExecuteTime": {
     "end_time": "2024-06-11T05:38:52.050967Z",
     "start_time": "2024-06-11T05:38:52.003198Z"
    }
   },
   "id": "941f0986b22f95f4",
   "execution_count": 6
  },
  {
   "cell_type": "code",
   "outputs": [],
   "source": [
    "from config import get_tokenizer\n",
    "tokenizer = get_tokenizer()"
   ],
   "metadata": {
    "collapsed": false,
    "ExecuteTime": {
     "end_time": "2024-06-11T05:40:44.355079Z",
     "start_time": "2024-06-11T05:40:43.796389Z"
    }
   },
   "id": "94dd36d722a54d18",
   "execution_count": 7
  },
  {
   "cell_type": "code",
   "outputs": [
    {
     "data": {
      "text/plain": "{'input_ids': [0, 31414, 6, 42, 65, 3645, 328, 2, 2, 2409, 42, 3645, 1411, 19, 24, 4, 2], 'attention_mask': [1, 1, 1, 1, 1, 1, 1, 1, 1, 1, 1, 1, 1, 1, 1, 1, 1]}"
     },
     "execution_count": 8,
     "metadata": {},
     "output_type": "execute_result"
    }
   ],
   "source": [
    "tokenizer(\"Hello, this one sentence!\", \"And this sentence goes with it.\")\n"
   ],
   "metadata": {
    "collapsed": false,
    "ExecuteTime": {
     "end_time": "2024-06-11T05:41:33.876929Z",
     "start_time": "2024-06-11T05:41:33.861263Z"
    }
   },
   "id": "f4fa4add61c6f947",
   "execution_count": 8
  },
  {
   "cell_type": "code",
   "outputs": [],
   "source": [],
   "metadata": {
    "collapsed": false
   },
   "id": "79368429553970af"
  }
 ],
 "metadata": {
  "kernelspec": {
   "display_name": "Python 3",
   "language": "python",
   "name": "python3"
  },
  "language_info": {
   "codemirror_mode": {
    "name": "ipython",
    "version": 2
   },
   "file_extension": ".py",
   "mimetype": "text/x-python",
   "name": "python",
   "nbconvert_exporter": "python",
   "pygments_lexer": "ipython2",
   "version": "2.7.6"
  }
 },
 "nbformat": 4,
 "nbformat_minor": 5
}
