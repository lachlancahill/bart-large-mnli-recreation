{
 "cells": [
  {
   "cell_type": "code",
   "id": "b061d1878ef0bdc",
   "metadata": {
    "collapsed": true,
    "ExecuteTime": {
     "end_time": "2024-06-16T02:00:24.678896Z",
     "start_time": "2024-06-16T02:00:24.662818Z"
    }
   },
   "source": [
    "from transformers import ZeroShotClassificationPipeline, AutoTokenizer, AutoConfig, T5ForSequenceClassification, \n",
    "import torch"
   ],
   "outputs": [],
   "execution_count": 5
  },
  {
   "metadata": {
    "ExecuteTime": {
     "end_time": "2024-06-16T02:40:28.299744Z",
     "start_time": "2024-06-16T02:40:28.283728Z"
    }
   },
   "cell_type": "code",
   "source": [
    "original_id = 'google-t5/t5-large'\n",
    "config_path = r'C:\\Users\\lachl\\PycharmProjects\\bart-large-mnli-recreation\\runs\\google-t5\\t5-large\\2024-06-16--14-29-48\\config_checkpoint'\n",
    "checkpoint_path = r'C:\\Users\\lachl\\PycharmProjects\\bart-large-mnli-recreation\\runs\\google-t5\\t5-large\\2024-06-16--10-03-52\\checkpoints\\checkpoint_1\\model.safetensors'"
   ],
   "id": "1efdaeedb8d86dbc",
   "outputs": [],
   "execution_count": 10
  },
  {
   "metadata": {},
   "cell_type": "markdown",
   "source": "",
   "id": "d188b7329df57888"
  },
  {
   "metadata": {
    "ExecuteTime": {
     "end_time": "2024-06-16T02:49:37.669659Z",
     "start_time": "2024-06-16T02:49:37.654028Z"
    }
   },
   "cell_type": "code",
   "source": [
    "config = AutoConfig.from_pretrained(config_path)\n",
    "\n",
    "id2label = {0: 'contradiction', 1: 'neutral', 2: 'entailment'}\n",
    "\n",
    "config.label2id = {v:k for k,v in id2label.items()}\n",
    "config.max_length = 2048"
   ],
   "id": "5831f6104906032e",
   "outputs": [],
   "execution_count": 20
  },
  {
   "metadata": {
    "ExecuteTime": {
     "end_time": "2024-06-16T02:49:57.734318Z",
     "start_time": "2024-06-16T02:49:54.731360Z"
    }
   },
   "cell_type": "code",
   "source": [
    "\n",
    "tokenizer = AutoTokenizer.from_pretrained(original_id)\n",
    "model = T5ForSequenceClassification.from_pretrained(\n",
    "    checkpoint_path,\n",
    "    device_map='cuda:0',\n",
    "    config=config,\n",
    ")\n",
    "\n",
    "classifier = ZeroShotClassificationPipeline(model=model, tokenizer=tokenizer)"
   ],
   "id": "initial_id",
   "outputs": [],
   "execution_count": 23
  },
  {
   "metadata": {
    "ExecuteTime": {
     "end_time": "2024-06-16T02:51:17.938490Z",
     "start_time": "2024-06-16T02:51:17.260844Z"
    }
   },
   "cell_type": "code",
   "source": [
    "sequence_to_classify = \"one day I will see the world\"\n",
    "candidate_labels = ['travel', 'cooking', 'dancing', 'negative sentiment', 'positive sentiment', 'neutral sentiment']\n",
    "classifier(sequence_to_classify, candidate_labels, multi_label=True)\n",
    "#{'labels': ['travel', 'dancing', 'cooking'],\n",
    "# 'scores': [0.9938651323318481, 0.0032737774308770895, 0.002861034357920289],\n",
    "# 'sequence': 'one day I will see the world'}\n"
   ],
   "id": "5ede287963d94ace",
   "outputs": [
    {
     "data": {
      "text/plain": [
       "{'sequence': 'one day I will see the world',\n",
       " 'labels': ['travel',\n",
       "  'positive sentiment',\n",
       "  'neutral sentiment',\n",
       "  'negative sentiment',\n",
       "  'dancing',\n",
       "  'cooking'],\n",
       " 'scores': [0.985240638256073,\n",
       "  0.8247328996658325,\n",
       "  0.14022280275821686,\n",
       "  0.09571882337331772,\n",
       "  0.07555826008319855,\n",
       "  0.053149327635765076]}"
      ]
     },
     "execution_count": 28,
     "metadata": {},
     "output_type": "execute_result"
    }
   ],
   "execution_count": 28
  },
  {
   "metadata": {},
   "cell_type": "code",
   "outputs": [],
   "execution_count": null,
   "source": "",
   "id": "ac509debb740263c"
  }
 ],
 "metadata": {
  "kernelspec": {
   "display_name": "Python 3",
   "language": "python",
   "name": "python3"
  },
  "language_info": {
   "codemirror_mode": {
    "name": "ipython",
    "version": 2
   },
   "file_extension": ".py",
   "mimetype": "text/x-python",
   "name": "python",
   "nbconvert_exporter": "python",
   "pygments_lexer": "ipython2",
   "version": "2.7.6"
  }
 },
 "nbformat": 4,
 "nbformat_minor": 5
}
