{
 "cells": [
  {
   "cell_type": "code",
   "id": "b061d1878ef0bdc",
   "metadata": {
    "collapsed": true,
    "ExecuteTime": {
     "end_time": "2024-06-16T07:32:52.946498Z",
     "start_time": "2024-06-16T07:32:47.383163Z"
    }
   },
   "source": [
    "from transformers import ZeroShotClassificationPipeline, AutoTokenizer, AutoConfig, T5ForSequenceClassification \n",
    "import torch"
   ],
   "outputs": [],
   "execution_count": 1
  },
  {
   "metadata": {
    "ExecuteTime": {
     "end_time": "2024-06-16T07:32:52.962532Z",
     "start_time": "2024-06-16T07:32:52.946498Z"
    }
   },
   "cell_type": "code",
   "source": [
    "original_id = 'google-t5/t5-large'\n",
    "config_path = r'C:\\Users\\lachl\\PycharmProjects\\bart-large-mnli-recreation\\runs\\google-t5\\t5-large\\2024-06-16--15-46-56\\config_checkpoint'\n",
    "checkpoint_path = r'C:\\Users\\lachl\\PycharmProjects\\bart-large-mnli-recreation\\runs\\google-t5\\t5-large\\2024-06-16--15-46-56\\checkpoints\\checkpoint_2'"
   ],
   "id": "1efdaeedb8d86dbc",
   "outputs": [],
   "execution_count": 2
  },
  {
   "metadata": {
    "ExecuteTime": {
     "end_time": "2024-06-16T07:32:52.978168Z",
     "start_time": "2024-06-16T07:32:52.962532Z"
    }
   },
   "cell_type": "code",
   "source": [
    "config = AutoConfig.from_pretrained(config_path)\n",
    "\n",
    "id2label = {0: 'contradiction', 1: 'neutral', 2: 'entailment'}\n",
    "\n",
    "config.label2id = {v:k for k,v in id2label.items()}\n",
    "config.max_length = 2048"
   ],
   "id": "5831f6104906032e",
   "outputs": [],
   "execution_count": 3
  },
  {
   "metadata": {
    "ExecuteTime": {
     "end_time": "2024-06-16T07:32:55.885284Z",
     "start_time": "2024-06-16T07:32:52.978764Z"
    }
   },
   "cell_type": "code",
   "source": [
    "\n",
    "tokenizer = AutoTokenizer.from_pretrained(original_id)\n",
    "model = T5ForSequenceClassification.from_pretrained(\n",
    "    checkpoint_path,\n",
    "    device_map='cuda:0',\n",
    "    config=config,\n",
    ")\n",
    "\n",
    "classifier = ZeroShotClassificationPipeline(model=model, tokenizer=tokenizer)"
   ],
   "id": "initial_id",
   "outputs": [
    {
     "name": "stderr",
     "output_type": "stream",
     "text": [
      "C:\\Users\\lachl\\PycharmProjects\\bart-large-mnli-recreation\\.venv\\lib\\site-packages\\huggingface_hub\\file_download.py:1132: FutureWarning: `resume_download` is deprecated and will be removed in version 1.0.0. Downloads always resume when possible. If you want to force a new download, use `force_download=True`.\n",
      "  warnings.warn(\n"
     ]
    }
   ],
   "execution_count": 4
  },
  {
   "metadata": {
    "ExecuteTime": {
     "end_time": "2024-06-16T07:32:56.830307Z",
     "start_time": "2024-06-16T07:32:55.885284Z"
    }
   },
   "cell_type": "code",
   "source": [
    "sequence_to_classify = \"one day I will see the world.\"\n",
    "candidate_labels = ['travel', 'cooking', 'dancing', 'pessimism', 'optimism', 'negative sentiment', 'positive sentiment', 'neutral sentiment']\n",
    "result = classifier(sequence_to_classify, candidate_labels, multi_label=True)\n",
    "#{'labels': ['travel', 'dancing', 'cooking'],\n",
    "# 'scores': [0.9938651323318481, 0.0032737774308770895, 0.002861034357920289],\n",
    "# 'sequence': 'one day I will see the world'}\n",
    "\n",
    "result_presented = list(zip(result['labels'], [round(s,3) for s in result['scores']]))\n",
    "result_presented\n"
   ],
   "id": "5ede287963d94ace",
   "outputs": [
    {
     "name": "stderr",
     "output_type": "stream",
     "text": [
      "Asking to truncate to max_length but no maximum length is provided and the model has no predefined maximum length. Default to no truncation.\n"
     ]
    },
    {
     "data": {
      "text/plain": [
       "[('travel', 0.955),\n",
       " ('positive sentiment', 0.856),\n",
       " ('optimism', 0.817),\n",
       " ('pessimism', 0.151),\n",
       " ('negative sentiment', 0.079),\n",
       " ('neutral sentiment', 0.079),\n",
       " ('dancing', 0.05),\n",
       " ('cooking', 0.033)]"
      ]
     },
     "execution_count": 5,
     "metadata": {},
     "output_type": "execute_result"
    }
   ],
   "execution_count": 5
  },
  {
   "metadata": {
    "ExecuteTime": {
     "end_time": "2024-06-16T07:32:56.833646Z",
     "start_time": "2024-06-16T07:32:56.830307Z"
    }
   },
   "cell_type": "code",
   "source": "",
   "id": "ac509debb740263c",
   "outputs": [],
   "execution_count": 5
  },
  {
   "metadata": {
    "ExecuteTime": {
     "end_time": "2024-06-16T07:32:56.849307Z",
     "start_time": "2024-06-16T07:32:56.833646Z"
    }
   },
   "cell_type": "code",
   "source": "",
   "id": "abe10ff75b73c295",
   "outputs": [],
   "execution_count": 5
  }
 ],
 "metadata": {
  "kernelspec": {
   "display_name": "Python 3",
   "language": "python",
   "name": "python3"
  },
  "language_info": {
   "codemirror_mode": {
    "name": "ipython",
    "version": 2
   },
   "file_extension": ".py",
   "mimetype": "text/x-python",
   "name": "python",
   "nbconvert_exporter": "python",
   "pygments_lexer": "ipython2",
   "version": "2.7.6"
  }
 },
 "nbformat": 4,
 "nbformat_minor": 5
}
