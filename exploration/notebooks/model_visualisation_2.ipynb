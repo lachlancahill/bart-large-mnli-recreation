{
 "cells": [
  {
   "cell_type": "code",
   "execution_count": 1,
   "id": "db2ca8b85222b233",
   "metadata": {
    "ExecuteTime": {
     "end_time": "2024-06-14T07:04:54.622785Z",
     "start_time": "2024-06-14T07:04:25.465539Z"
    }
   },
   "outputs": [
    {
     "data": {
      "text/plain": [
       "'svg'"
      ]
     },
     "execution_count": 1,
     "metadata": {},
     "output_type": "execute_result"
    }
   ],
   "source": [
    "from torchview import draw_graph\n",
    "import torch\n",
    "from transformers import MistralForSequenceClassification, LlamaTokenizerFast\n",
    "\n",
    "import graphviz\n",
    "graphviz.set_jupyter_format('png')"
   ]
  },
  {
   "cell_type": "code",
   "execution_count": 2,
   "id": "6ab470847cd7d27a",
   "metadata": {
    "ExecuteTime": {
     "end_time": "2024-06-14T07:04:54.628226Z",
     "start_time": "2024-06-14T07:04:54.624553Z"
    }
   },
   "outputs": [],
   "source": [
    "hf_repo = 'h2oai/h2o-danube2-1.8b-base'\n",
    "device = 'cpu'"
   ]
  },
  {
   "cell_type": "code",
   "execution_count": 3,
   "id": "dfe736ee1b6546c",
   "metadata": {
    "ExecuteTime": {
     "end_time": "2024-06-14T07:04:55.678579Z",
     "start_time": "2024-06-14T07:04:54.630826Z"
    }
   },
   "outputs": [
    {
     "name": "stderr",
     "output_type": "stream",
     "text": [
      "Some weights of MistralForSequenceClassification were not initialized from the model checkpoint at h2oai/h2o-danube2-1.8b-base and are newly initialized: ['score.weight']\n",
      "You should probably TRAIN this model on a down-stream task to be able to use it for predictions and inference.\n"
     ]
    }
   ],
   "source": [
    "model = MistralForSequenceClassification.from_pretrained(hf_repo, num_labels=3, device_map=device,\n",
    "                                                         torch_dtype=torch.bfloat16)\n",
    "\n",
    "tokenizer = LlamaTokenizerFast.from_pretrained(hf_repo)"
   ]
  },
  {
   "cell_type": "code",
   "execution_count": 4,
   "id": "e461ac3b762c0677",
   "metadata": {
    "ExecuteTime": {
     "end_time": "2024-06-14T07:04:59.329315Z",
     "start_time": "2024-06-14T07:04:55.680361Z"
    }
   },
   "outputs": [],
   "source": [
    "\n",
    "if tokenizer.pad_token is None:\n",
    "    num_added_toks = tokenizer.add_special_tokens({'pad_token': '<|pad_token|>'})\n",
    "    assert num_added_toks == 1\n",
    "    model.resize_token_embeddings(len(tokenizer))\n",
    "    model.config.pad_token_id = tokenizer.pad_token_id\n"
   ]
  },
  {
   "cell_type": "code",
   "execution_count": 5,
   "id": "4fd834bbd4fac4ca",
   "metadata": {
    "ExecuteTime": {
     "end_time": "2024-06-14T07:04:59.337965Z",
     "start_time": "2024-06-14T07:04:59.331160Z"
    }
   },
   "outputs": [
    {
     "data": {
      "text/plain": [
       "{'input_ids': tensor([[32000, 32000, 32000, 32000, 32000, 32000, 32000, 32000, 32000, 32000,\n",
       "         32000, 32000, 32000, 32000, 32000, 32000, 32000, 32000, 32000, 32000,\n",
       "         32000, 32000, 32000,   304,   586]]), 'attention_mask': tensor([[0, 0, 0, 0, 0, 0, 0, 0, 0, 0, 0, 0, 0, 0, 0, 0, 0, 0, 0, 0, 0, 0, 0, 1,\n",
       "         1]])}"
      ]
     },
     "execution_count": 5,
     "metadata": {},
     "output_type": "execute_result"
    }
   ],
   "source": [
    "\n",
    "premises = [\n",
    "    \"and\",\n",
    "]\n",
    "\n",
    "hypotheses = [\n",
    "    'my'\n",
    "]\n",
    "\n",
    "inputs = tokenizer(premises, hypotheses, truncation='only_first', padding=\"max_length\",\n",
    "                    max_length=25, add_special_tokens=True, return_tensors='pt')\n",
    "\n",
    "inputs"
   ]
  },
  {
   "cell_type": "code",
   "execution_count": 6,
   "id": "dda283eb6e3559b2",
   "metadata": {
    "ExecuteTime": {
     "end_time": "2024-06-14T07:21:27.017900Z",
     "start_time": "2024-06-14T07:19:18.944903Z"
    }
   },
   "outputs": [],
   "source": [
    "\n",
    "\n",
    "model_graph = draw_graph(model, input_data=inputs, save_graph=True, filename=f\"graphed_hf_repo.svg\", directory='/mnt/c/Users/lachl/PycharmProjects/bart-large-mnli-recreation')\n"
   ]
  },
  {
   "cell_type": "code",
   "execution_count": 7,
   "id": "d011096c19d677bd",
   "metadata": {
    "ExecuteTime": {
     "end_time": "2024-06-14T07:07:34.295364Z",
     "start_time": "2024-06-14T07:07:34.290057Z"
    }
   },
   "outputs": [
    {
     "data": {
      "text/plain": [
       "graphviz.graphs.Digraph"
      ]
     },
     "execution_count": 7,
     "metadata": {},
     "output_type": "execute_result"
    }
   ],
   "source": [
    "type(model_graph.visual_graph)"
   ]
  },
  {
   "cell_type": "code",
   "execution_count": 8,
   "id": "initial_id",
   "metadata": {
    "ExecuteTime": {
     "end_time": "2024-06-14T07:08:32.836842Z",
     "start_time": "2024-06-14T07:08:32.833762Z"
    }
   },
   "outputs": [],
   "source": [
    "\n",
    "# fie_ext = 'png'\n",
    "# temp_img = 'temp_file'\n",
    "# my_graph = graphviz.Source(model_graph)\n",
    "# my_graph.render(temp_img,format=fie_ext, view=False)"
   ]
  },
  {
   "cell_type": "code",
   "execution_count": 10,
   "id": "c7eef785fb42330d",
   "metadata": {},
   "outputs": [
    {
     "ename": "AttributeError",
     "evalue": "'Digraph' object has no attribute 'show'",
     "output_type": "error",
     "traceback": [
      "\u001b[0;31m---------------------------------------------------------------------------\u001b[0m",
      "\u001b[0;31mAttributeError\u001b[0m                            Traceback (most recent call last)",
      "Cell \u001b[0;32mIn[10], line 1\u001b[0m\n\u001b[0;32m----> 1\u001b[0m \u001b[43mmodel_graph\u001b[49m\u001b[38;5;241;43m.\u001b[39;49m\u001b[43mvisual_graph\u001b[49m\u001b[38;5;241;43m.\u001b[39;49m\u001b[43mshow\u001b[49m()\n",
      "\u001b[0;31mAttributeError\u001b[0m: 'Digraph' object has no attribute 'show'"
     ]
    }
   ],
   "source": [
    "model_graph.visual_graph"
   ]
  },
  {
   "cell_type": "code",
   "execution_count": null,
   "id": "6d921cb9-dc45-4ca1-988e-c4fc6b75c864",
   "metadata": {},
   "outputs": [],
   "source": []
  }
 ],
 "metadata": {
  "kernelspec": {
   "display_name": "Python 3 (ipykernel)",
   "language": "python",
   "name": "python3"
  },
  "language_info": {
   "codemirror_mode": {
    "name": "ipython",
    "version": 3
   },
   "file_extension": ".py",
   "mimetype": "text/x-python",
   "name": "python",
   "nbconvert_exporter": "python",
   "pygments_lexer": "ipython3",
   "version": "3.10.12"
  }
 },
 "nbformat": 4,
 "nbformat_minor": 5
}
