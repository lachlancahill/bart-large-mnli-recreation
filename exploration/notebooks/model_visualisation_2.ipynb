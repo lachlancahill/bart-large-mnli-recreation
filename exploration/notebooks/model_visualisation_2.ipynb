{
 "cells": [
  {
   "cell_type": "code",
   "id": "db2ca8b85222b233",
   "metadata": {
    "ExecuteTime": {
     "end_time": "2024-06-17T03:48:08.212452Z",
     "start_time": "2024-06-17T03:47:38.040290Z"
    }
   },
   "source": [
    "from torchview import draw_graph\n",
    "import torch\n",
    "from transformers import MistralForSequenceClassification, LlamaTokenizerFast, AutoModel, AutoModelForSequenceClassification, AutoTokenizer\n",
    "\n",
    "import graphviz\n",
    "graphviz.set_jupyter_format('png')"
   ],
   "outputs": [
    {
     "data": {
      "text/plain": [
       "'svg'"
      ]
     },
     "execution_count": 1,
     "metadata": {},
     "output_type": "execute_result"
    }
   ],
   "execution_count": 1
  },
  {
   "cell_type": "code",
   "id": "6ab470847cd7d27a",
   "metadata": {
    "ExecuteTime": {
     "end_time": "2024-06-17T03:48:08.217049Z",
     "start_time": "2024-06-17T03:48:08.214081Z"
    }
   },
   "source": [
    "hf_repo = 'facebook/bart-large'\n",
    "device = 'cpu'"
   ],
   "outputs": [],
   "execution_count": 2
  },
  {
   "cell_type": "code",
   "id": "a5979594bc17288b",
   "metadata": {
    "ExecuteTime": {
     "end_time": "2024-06-17T03:48:08.229049Z",
     "start_time": "2024-06-17T03:48:08.218166Z"
    }
   },
   "source": "model_name = hf_repo.split('/')[1]",
   "outputs": [],
   "execution_count": 3
  },
  {
   "metadata": {
    "ExecuteTime": {
     "end_time": "2024-06-17T03:48:14.558240Z",
     "start_time": "2024-06-17T03:48:08.230264Z"
    }
   },
   "cell_type": "code",
   "source": [
    "\n",
    "model_normal = AutoModel.from_pretrained(\n",
    "    hf_repo, \n",
    "    num_labels=3, \n",
    "    # device_map=device,\n",
    "    # torch_dtype=torch.bfloat16\n",
    ")\n",
    "\n",
    "model_sequence_classifier = AutoModelForSequenceClassification.from_pretrained(\n",
    "    hf_repo, \n",
    "    num_labels=3, \n",
    "    # device_map=device,\n",
    "    # torch_dtype=torch.bfloat16\n",
    ")"
   ],
   "id": "951fc9a28ec7d5c2",
   "outputs": [
    {
     "name": "stderr",
     "output_type": "stream",
     "text": [
      "Some weights of BartForSequenceClassification were not initialized from the model checkpoint at facebook/bart-large and are newly initialized: ['classification_head.dense.bias', 'classification_head.dense.weight', 'classification_head.out_proj.bias', 'classification_head.out_proj.weight']\n",
      "You should probably TRAIN this model on a down-stream task to be able to use it for predictions and inference.\n"
     ]
    }
   ],
   "execution_count": 4
  },
  {
   "metadata": {
    "ExecuteTime": {
     "end_time": "2024-06-17T03:48:14.975723Z",
     "start_time": "2024-06-17T03:48:14.561024Z"
    }
   },
   "cell_type": "code",
   "source": [
    "\n",
    "tokenizer = AutoTokenizer.from_pretrained(hf_repo)"
   ],
   "id": "dfe736ee1b6546c",
   "outputs": [],
   "execution_count": 5
  },
  {
   "cell_type": "code",
   "id": "e461ac3b762c0677",
   "metadata": {
    "ExecuteTime": {
     "end_time": "2024-06-17T03:48:14.979873Z",
     "start_time": "2024-06-17T03:48:14.976896Z"
    }
   },
   "source": [
    "\n",
    "# if tokenizer.pad_token is None:\n",
    "#     num_added_toks = tokenizer.add_special_tokens({'pad_token': '<|pad_token|>'})\n",
    "#     assert num_added_toks == 1\n",
    "#     model.resize_token_embeddings(len(tokenizer))\n",
    "    # model.config.pad_token_id = tokenizer.pad_token_id\n"
   ],
   "outputs": [],
   "execution_count": 6
  },
  {
   "cell_type": "code",
   "id": "4fd834bbd4fac4ca",
   "metadata": {
    "ExecuteTime": {
     "end_time": "2024-06-17T03:48:15.206680Z",
     "start_time": "2024-06-17T03:48:14.981432Z"
    }
   },
   "source": [
    "\n",
    "premises = [\n",
    "    \"and\",\n",
    "]\n",
    "\n",
    "hypotheses = [\n",
    "    'my'\n",
    "]\n",
    "\n",
    "inputs = tokenizer(premises, hypotheses, truncation='only_first', padding=\"max_length\",\n",
    "                    max_length=tokenizer.model_max_length, add_special_tokens=True, return_tensors='pt')\n",
    "\n",
    "inputs"
   ],
   "outputs": [
    {
     "data": {
      "text/plain": [
       "{'input_ids': tensor([[  0, 463,   2,  ...,   1,   1,   1]]), 'attention_mask': tensor([[1, 1, 1,  ..., 0, 0, 0]])}"
      ]
     },
     "execution_count": 7,
     "metadata": {},
     "output_type": "execute_result"
    }
   ],
   "execution_count": 7
  },
  {
   "cell_type": "code",
   "id": "dda283eb6e3559b2",
   "metadata": {
    "ExecuteTime": {
     "end_time": "2024-06-17T03:48:28.556613Z",
     "start_time": "2024-06-17T03:48:15.207977Z"
    }
   },
   "source": [
    "\n",
    "\n",
    "normal_model_graph = draw_graph(model_normal, input_data=inputs, save_graph=True, filename=f\"graphed_{model_name}_normal.svg\", directory=r'/mnt/c/Users/lachl/PycharmProjects/bart-large-mnli-recreation/exploration/notebooks/images')\n",
    "\n",
    "\n",
    "classifier_model_graph = draw_graph(model_sequence_classifier, input_data=inputs, save_graph=True, filename=f\"graphed_{model_name}_classifier.svg\", directory=r'/mnt/c/Users/lachl/PycharmProjects/bart-large-mnli-recreation/exploration/notebooks/images')\n"
   ],
   "outputs": [],
   "execution_count": 8
  },
  {
   "cell_type": "code",
   "id": "d011096c19d677bd",
   "metadata": {
    "ExecuteTime": {
     "end_time": "2024-06-17T03:48:28.560851Z",
     "start_time": "2024-06-17T03:48:28.558Z"
    }
   },
   "source": "# type(model_graph.visual_graph)",
   "outputs": [],
   "execution_count": 9
  },
  {
   "cell_type": "code",
   "id": "initial_id",
   "metadata": {
    "ExecuteTime": {
     "end_time": "2024-06-17T03:48:28.608880Z",
     "start_time": "2024-06-17T03:48:28.562516Z"
    }
   },
   "source": [
    "\n",
    "# fie_ext = 'png'\n",
    "# temp_img = 'temp_file'\n",
    "# my_graph = graphviz.Source(model_graph)\n",
    "# my_graph.render(temp_img,format=fie_ext, view=False)"
   ],
   "outputs": [],
   "execution_count": 10
  },
  {
   "cell_type": "code",
   "id": "c7eef785fb42330d",
   "metadata": {
    "ExecuteTime": {
     "end_time": "2024-06-17T03:48:28.649156Z",
     "start_time": "2024-06-17T03:48:28.610641Z"
    }
   },
   "source": "# model_graph.visual_graph",
   "outputs": [],
   "execution_count": 11
  },
  {
   "cell_type": "code",
   "id": "6d921cb9-dc45-4ca1-988e-c4fc6b75c864",
   "metadata": {
    "ExecuteTime": {
     "end_time": "2024-06-17T03:48:28.652445Z",
     "start_time": "2024-06-17T03:48:28.650660Z"
    }
   },
   "source": [],
   "outputs": [],
   "execution_count": 11
  }
 ],
 "metadata": {
  "kernelspec": {
   "display_name": "Python 3 (ipykernel)",
   "language": "python",
   "name": "python3"
  },
  "language_info": {
   "codemirror_mode": {
    "name": "ipython",
    "version": 3
   },
   "file_extension": ".py",
   "mimetype": "text/x-python",
   "name": "python",
   "nbconvert_exporter": "python",
   "pygments_lexer": "ipython3",
   "version": "3.10.12"
  }
 },
 "nbformat": 4,
 "nbformat_minor": 5
}
