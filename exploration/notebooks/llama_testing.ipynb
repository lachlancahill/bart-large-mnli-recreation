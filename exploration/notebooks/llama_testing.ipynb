{
 "cells": [
  {
   "cell_type": "code",
   "id": "initial_id",
   "metadata": {
    "collapsed": true,
    "ExecuteTime": {
     "end_time": "2024-07-01T01:05:25.839264Z",
     "start_time": "2024-07-01T01:04:55.000293Z"
    }
   },
   "source": [
    "from transformers import AutoModelForSequenceClassification, AutoTokenizer\n",
    "\n",
    "\n",
    "hf_repo = 'meta-llama/Meta-Llama-3-8B-Instruct'\n"
   ],
   "outputs": [],
   "execution_count": 1
  },
  {
   "metadata": {
    "ExecuteTime": {
     "end_time": "2024-07-01T01:06:00.521900Z",
     "start_time": "2024-07-01T01:05:41.337983Z"
    }
   },
   "cell_type": "code",
   "source": [
    "import torch\n",
    "model = AutoModelForSequenceClassification.from_pretrained(hf_repo, torch_dtype=torch.bfloat16, device_map='cpu')\n",
    "tokenizer = AutoTokenizer.from_pretrained(hf_repo)"
   ],
   "id": "24c3cbbe48b6b3c7",
   "outputs": [
    {
     "data": {
      "text/plain": [
       "Loading checkpoint shards:   0%|          | 0/4 [00:00<?, ?it/s]"
      ],
      "application/vnd.jupyter.widget-view+json": {
       "version_major": 2,
       "version_minor": 0,
       "model_id": "0fca7e22d11b4e1d88f2509c4fa9da35"
      }
     },
     "metadata": {},
     "output_type": "display_data"
    },
    {
     "name": "stderr",
     "output_type": "stream",
     "text": [
      "Some weights of LlamaForSequenceClassification were not initialized from the model checkpoint at meta-llama/Meta-Llama-3-8B-Instruct and are newly initialized: ['score.weight']\n",
      "You should probably TRAIN this model on a down-stream task to be able to use it for predictions and inference.\n",
      "Special tokens have been added in the vocabulary, make sure the associated word embeddings are fine-tuned or trained.\n"
     ]
    }
   ],
   "execution_count": 2
  },
  {
   "metadata": {
    "ExecuteTime": {
     "end_time": "2024-07-01T01:06:01.982819Z",
     "start_time": "2024-07-01T01:06:01.979568Z"
    }
   },
   "cell_type": "code",
   "source": [
    "print(f'{type(model)=}')\n",
    "print(f'{type(tokenizer)=}')"
   ],
   "id": "2a7258f4ff14f2be",
   "outputs": [
    {
     "name": "stdout",
     "output_type": "stream",
     "text": [
      "type(model)=<class 'transformers.models.llama.modeling_llama.LlamaForSequenceClassification'>\n",
      "type(tokenizer)=<class 'transformers.tokenization_utils_fast.PreTrainedTokenizerFast'>\n"
     ]
    }
   ],
   "execution_count": 3
  },
  {
   "metadata": {
    "ExecuteTime": {
     "end_time": "2024-07-01T01:11:07.907768Z",
     "start_time": "2024-07-01T01:11:07.904284Z"
    }
   },
   "cell_type": "code",
   "source": [
    "prefix_prompts = [\n",
    "    {\n",
    "        'role': 'system',\n",
    "        'content': '''The user will provide a Zero Shot Classification Problem. Respond only with the correct classification 'Entailment', 'Neutral' or 'Contradiction'.''',\n",
    "    },\n",
    "    {\n",
    "        'role': 'user',\n",
    "        'content': f\"Premise:\\n<|premise_placeholder|>\\n\\nHypothesis:\\n<|hypothesis_placeholder|>\\n\\nRespond with only the correct classification 'Entailment', 'Neutral' or 'Contradiction'.\"\n",
    "    }\n",
    "]"
   ],
   "id": "bd0631004e803b6",
   "outputs": [],
   "execution_count": 4
  },
  {
   "metadata": {
    "ExecuteTime": {
     "end_time": "2024-07-01T01:11:41.270878Z",
     "start_time": "2024-07-01T01:11:41.040141Z"
    }
   },
   "cell_type": "code",
   "source": "formatted_template = tokenizer.apply_chat_template(prefix_prompts, add_generation_prompt=True, tokenize=False)",
   "id": "62f746a3d16fd9bc",
   "outputs": [],
   "execution_count": 5
  },
  {
   "metadata": {
    "ExecuteTime": {
     "end_time": "2024-07-01T01:11:46.065338Z",
     "start_time": "2024-07-01T01:11:46.061909Z"
    }
   },
   "cell_type": "code",
   "source": "print(formatted_template)",
   "id": "fce54bbf98719c01",
   "outputs": [
    {
     "name": "stdout",
     "output_type": "stream",
     "text": [
      "<|begin_of_text|><|start_header_id|>system<|end_header_id|>\n",
      "\n",
      "The user will provide a Zero Shot Classification Problem. Respond only with the correct classification 'Entailment', 'Neutral' or 'Contradiction'.<|eot_id|><|start_header_id|>user<|end_header_id|>\n",
      "\n",
      "Premise:\n",
      "<|premise_placeholder|>\n",
      "\n",
      "Hypothesis:\n",
      "<|hypothesis_placeholder|>\n",
      "\n",
      "Respond with only the correct classification 'Entailment', 'Neutral' or 'Contradiction'.<|eot_id|><|start_header_id|>assistant<|end_header_id|>\n",
      "\n",
      "\n"
     ]
    }
   ],
   "execution_count": 6
  },
  {
   "metadata": {},
   "cell_type": "code",
   "outputs": [],
   "execution_count": null,
   "source": "",
   "id": "85a5c04d817c2826"
  }
 ],
 "metadata": {
  "kernelspec": {
   "display_name": "Python 3",
   "language": "python",
   "name": "python3"
  },
  "language_info": {
   "codemirror_mode": {
    "name": "ipython",
    "version": 2
   },
   "file_extension": ".py",
   "mimetype": "text/x-python",
   "name": "python",
   "nbconvert_exporter": "python",
   "pygments_lexer": "ipython2",
   "version": "2.7.6"
  }
 },
 "nbformat": 4,
 "nbformat_minor": 5
}
