{
 "cells": [
  {
   "cell_type": "code",
   "id": "initial_id",
   "metadata": {
    "collapsed": true,
    "ExecuteTime": {
     "end_time": "2024-06-26T07:35:11.574887Z",
     "start_time": "2024-06-26T07:35:11.559230Z"
    }
   },
   "source": [
    ""
   ],
   "outputs": [],
   "execution_count": null
  },
  {
   "metadata": {
    "ExecuteTime": {
     "end_time": "2024-06-26T07:35:19.093535Z",
     "start_time": "2024-06-26T07:35:11.574887Z"
    }
   },
   "cell_type": "code",
   "source": [
    "\n",
    "from transformers import LlamaTokenizerFast, MistralForSequenceClassification, AutoConfig\n",
    "\n",
    "hf_repo = 'h2oai/h2o-danube2-1.8b-base'\n",
    "\n",
    "max_seq_length = 2048\n",
    "\n",
    "tokenizer = LlamaTokenizerFast.from_pretrained(hf_repo)\n",
    "\n",
    "# configure tokenizer to actually use sequence tokens to delimit premise and hypothesis\n",
    "tokenizer.add_eos_token = True\n",
    "tokenizer.add_bos_token = True\n",
    "\n",
    "# config = AutoConfig.from_pretrained(f'{run_of_interest}/config_checkpoint')\n",
    "\n",
    "model = MistralForSequenceClassification.from_pretrained(hf_repo, num_labels=3)\n",
    "\n",
    "# Experimenting with freezing earlier parameters\n",
    "if tokenizer.pad_token is None:\n",
    "    num_added_tokens = tokenizer.add_special_tokens({'pad_token': '<|pad_token|>'})\n",
    "    assert num_added_tokens == 1\n",
    "    model.resize_token_embeddings(len(tokenizer))\n",
    "    # model.config.pad_token = tokenizer.pad_token\n",
    "    model.config.pad_token_id = tokenizer.pad_token_id"
   ],
   "id": "cd962a7ab6abfb94",
   "outputs": [
    {
     "name": "stderr",
     "output_type": "stream",
     "text": [
      "Some weights of MistralForSequenceClassification were not initialized from the model checkpoint at h2oai/h2o-danube2-1.8b-base and are newly initialized: ['score.weight']\n",
      "You should probably TRAIN this model on a down-stream task to be able to use it for predictions and inference.\n"
     ]
    }
   ],
   "execution_count": 1
  },
  {
   "metadata": {
    "ExecuteTime": {
     "end_time": "2024-06-26T07:35:19.109169Z",
     "start_time": "2024-06-26T07:35:19.093535Z"
    }
   },
   "cell_type": "code",
   "source": "print(model)",
   "id": "271143c7caf65e85",
   "outputs": [
    {
     "name": "stdout",
     "output_type": "stream",
     "text": [
      "MistralForSequenceClassification(\n",
      "  (model): MistralModel(\n",
      "    (embed_tokens): Embedding(32001, 2560)\n",
      "    (layers): ModuleList(\n",
      "      (0-23): 24 x MistralDecoderLayer(\n",
      "        (self_attn): MistralSdpaAttention(\n",
      "          (q_proj): Linear(in_features=2560, out_features=2560, bias=False)\n",
      "          (k_proj): Linear(in_features=2560, out_features=640, bias=False)\n",
      "          (v_proj): Linear(in_features=2560, out_features=640, bias=False)\n",
      "          (o_proj): Linear(in_features=2560, out_features=2560, bias=False)\n",
      "          (rotary_emb): MistralRotaryEmbedding()\n",
      "        )\n",
      "        (mlp): MistralMLP(\n",
      "          (gate_proj): Linear(in_features=2560, out_features=6912, bias=False)\n",
      "          (up_proj): Linear(in_features=2560, out_features=6912, bias=False)\n",
      "          (down_proj): Linear(in_features=6912, out_features=2560, bias=False)\n",
      "          (act_fn): SiLU()\n",
      "        )\n",
      "        (input_layernorm): MistralRMSNorm()\n",
      "        (post_attention_layernorm): MistralRMSNorm()\n",
      "      )\n",
      "    )\n",
      "    (norm): MistralRMSNorm()\n",
      "  )\n",
      "  (score): Linear(in_features=2560, out_features=3, bias=False)\n",
      ")\n"
     ]
    }
   ],
   "execution_count": 2
  },
  {
   "metadata": {
    "ExecuteTime": {
     "end_time": "2024-06-26T07:35:19.125176Z",
     "start_time": "2024-06-26T07:35:19.109169Z"
    }
   },
   "cell_type": "code",
   "source": [
    "# for param in model.parameters():\n",
    "#     print(param)\n",
    "#     exit()\n",
    "    # param.requires_grad = False"
   ],
   "id": "cefc41de35e10343",
   "outputs": [],
   "execution_count": 3
  },
  {
   "metadata": {
    "ExecuteTime": {
     "end_time": "2024-06-26T08:12:01.955135Z",
     "start_time": "2024-06-26T08:12:01.923381Z"
    }
   },
   "cell_type": "code",
   "source": "len(model.model.layers)",
   "id": "9cd6b99ddf653a2d",
   "outputs": [
    {
     "data": {
      "text/plain": [
       "24"
      ]
     },
     "execution_count": 17,
     "metadata": {},
     "output_type": "execute_result"
    }
   ],
   "execution_count": 17
  },
  {
   "metadata": {},
   "cell_type": "code",
   "outputs": [
    {
     "name": "stdout",
     "output_type": "stream",
     "text": [
      "MistralDecoderLayer(\n",
      "  (self_attn): MistralSdpaAttention(\n",
      "    (q_proj): Linear(in_features=2560, out_features=2560, bias=False)\n",
      "    (k_proj): Linear(in_features=2560, out_features=640, bias=False)\n",
      "    (v_proj): Linear(in_features=2560, out_features=640, bias=False)\n",
      "    (o_proj): Linear(in_features=2560, out_features=2560, bias=False)\n",
      "    (rotary_emb): MistralRotaryEmbedding()\n",
      "  )\n",
      "  (mlp): MistralMLP(\n",
      "    (gate_proj): Linear(in_features=2560, out_features=6912, bias=False)\n",
      "    (up_proj): Linear(in_features=2560, out_features=6912, bias=False)\n",
      "    (down_proj): Linear(in_features=6912, out_features=2560, bias=False)\n",
      "    (act_fn): SiLU()\n",
      "  )\n",
      "  (input_layernorm): MistralRMSNorm()\n",
      "  (post_attention_layernorm): MistralRMSNorm()\n",
      ")\n"
     ]
    }
   ],
   "execution_count": 14,
   "source": [
    "\n",
    "# Fine-tune only the final normalization layer\n",
    "last_block = model.model.layers[-1]\n",
    "print(last_block)"
   ],
   "id": "f80b869a68810901"
  },
  {
   "metadata": {
    "ExecuteTime": {
     "end_time": "2024-06-26T07:38:50.189778Z",
     "start_time": "2024-06-26T07:38:50.174001Z"
    }
   },
   "cell_type": "code",
   "source": [
    "\n",
    "print(len(list(last_block.parameters())[0]))"
   ],
   "id": "1410441200054312",
   "outputs": [
    {
     "name": "stdout",
     "output_type": "stream",
     "text": [
      "2560\n"
     ]
    }
   ],
   "execution_count": 16
  },
  {
   "metadata": {
    "ExecuteTime": {
     "end_time": "2024-06-26T07:35:19.156947Z",
     "start_time": "2024-06-26T07:35:19.141920Z"
    }
   },
   "cell_type": "code",
   "source": [
    "\n",
    "final_norm = model.model.norm\n",
    "print(final_norm)"
   ],
   "id": "f9b79181d2a45b51",
   "outputs": [
    {
     "name": "stdout",
     "output_type": "stream",
     "text": [
      "MistralRMSNorm()\n"
     ]
    }
   ],
   "execution_count": 5
  },
  {
   "metadata": {
    "ExecuteTime": {
     "end_time": "2024-06-26T07:38:10.032451Z",
     "start_time": "2024-06-26T07:38:10.016818Z"
    }
   },
   "cell_type": "code",
   "source": [
    "\n",
    "print(len(list(final_norm.parameters())[0]))"
   ],
   "id": "c4f9c24ec3bd39f4",
   "outputs": [
    {
     "name": "stdout",
     "output_type": "stream",
     "text": [
      "2560\n"
     ]
    }
   ],
   "execution_count": 13
  },
  {
   "metadata": {},
   "cell_type": "code",
   "outputs": [],
   "execution_count": null,
   "source": "",
   "id": "21c734d6bc3cacfe"
  }
 ],
 "metadata": {
  "kernelspec": {
   "display_name": "Python 3",
   "language": "python",
   "name": "python3"
  },
  "language_info": {
   "codemirror_mode": {
    "name": "ipython",
    "version": 2
   },
   "file_extension": ".py",
   "mimetype": "text/x-python",
   "name": "python",
   "nbconvert_exporter": "python",
   "pygments_lexer": "ipython2",
   "version": "2.7.6"
  }
 },
 "nbformat": 4,
 "nbformat_minor": 5
}
