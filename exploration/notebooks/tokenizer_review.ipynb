{
 "cells": [
  {
   "cell_type": "code",
   "id": "997caeba13258204",
   "metadata": {
    "collapsed": true,
    "ExecuteTime": {
     "end_time": "2024-07-14T10:18:32.167114Z",
     "start_time": "2024-07-14T10:18:32.152413Z"
    }
   },
   "source": [
    "from transformers import AutoTokenizer\n",
    "\n",
    "def review_vocab(tokenizer_name, filter_string=None):\n",
    "    # Load the tokenizer\n",
    "    tokenizer = AutoTokenizer.from_pretrained(tokenizer_name)\n",
    "    \n",
    "    # Get the vocabulary\n",
    "    vocab = tokenizer.get_vocab()\n",
    "    \n",
    "    # Optionally filter the vocabulary\n",
    "    if filter_string:\n",
    "        filtered_vocab = {word: idx for word, idx in vocab.items() if word.startswith(filter_string)}\n",
    "    else:\n",
    "        filtered_vocab = vocab\n",
    "    \n",
    "    # Print the vocabulary\n",
    "    for word, idx in filtered_vocab.items():\n",
    "        print(f\"{word}: {idx}\")\n",
    "        \n",
    "    print(f\"INFO: total found: {len(filtered_vocab)}\")"
   ],
   "outputs": [],
   "execution_count": 10
  },
  {
   "metadata": {
    "ExecuteTime": {
     "end_time": "2024-07-14T10:19:06.502536Z",
     "start_time": "2024-07-14T10:19:05.694367Z"
    }
   },
   "cell_type": "code",
   "source": [
    "\n",
    "# Example usage\n",
    "tokenizer_name = \"meta-llama/Meta-Llama-3-8B-Instruct\"  # Replace with your tokenizer name\n",
    "filter_string = \"Entai\"  # Replace with your filter string or set to None\n",
    "\n",
    "review_vocab(tokenizer_name, filter_string)"
   ],
   "id": "initial_id",
   "outputs": [
    {
     "name": "stderr",
     "output_type": "stream",
     "text": [
      "Special tokens have been added in the vocabulary, make sure the associated word embeddings are fine-tuned or trained.\n"
     ]
    },
    {
     "name": "stdout",
     "output_type": "stream",
     "text": [
      "INFO: total found: 0\n"
     ]
    }
   ],
   "execution_count": 14
  },
  {
   "metadata": {},
   "cell_type": "code",
   "outputs": [],
   "execution_count": null,
   "source": "",
   "id": "cd792a40df9a7ad6"
  }
 ],
 "metadata": {
  "kernelspec": {
   "display_name": "Python 3",
   "language": "python",
   "name": "python3"
  },
  "language_info": {
   "codemirror_mode": {
    "name": "ipython",
    "version": 2
   },
   "file_extension": ".py",
   "mimetype": "text/x-python",
   "name": "python",
   "nbconvert_exporter": "python",
   "pygments_lexer": "ipython2",
   "version": "2.7.6"
  }
 },
 "nbformat": 4,
 "nbformat_minor": 5
}
