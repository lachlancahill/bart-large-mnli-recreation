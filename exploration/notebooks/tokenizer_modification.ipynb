{
 "cells": [
  {
   "cell_type": "code",
   "id": "8c4e1d9551fada45",
   "metadata": {
    "collapsed": true,
    "ExecuteTime": {
     "end_time": "2024-06-27T01:08:09.156598Z",
     "start_time": "2024-06-27T01:08:04.421568Z"
    }
   },
   "source": [
    "\n",
    "from transformers import LlamaTokenizerFast, MistralForSequenceClassification\n",
    "\n",
    "from tokenizer_for_classification import LlamaTokenizerZeroShotClassifierFast\n",
    "\n",
    "hf_repo = 'h2oai/h2o-danube2-1.8b-base'\n",
    "    \n",
    "tokenizer:LlamaTokenizerFast = LlamaTokenizerZeroShotClassifierFast.from_pretrained(hf_repo)\n",
    "\n",
    "    "
   ],
   "outputs": [
    {
     "name": "stderr",
     "output_type": "stream",
     "text": [
      "The tokenizer class you load from this checkpoint is not the same type as the class this function is called from. It may result in unexpected tokenization. \n",
      "The tokenizer class you load from this checkpoint is 'LlamaTokenizer'. \n",
      "The class this function is called from is 'LlamaTokenizerZeroShotClassifierFast'.\n"
     ]
    }
   ],
   "execution_count": 1
  },
  {
   "metadata": {
    "ExecuteTime": {
     "end_time": "2024-06-27T01:08:10.567822Z",
     "start_time": "2024-06-27T01:08:10.552156Z"
    }
   },
   "cell_type": "code",
   "source": [
    "premise = 'I am'\n",
    "hypothesis = 'stupid'"
   ],
   "id": "c6d175940d63a3bf",
   "outputs": [],
   "execution_count": 2
  },
  {
   "metadata": {
    "ExecuteTime": {
     "end_time": "2024-06-27T01:13:10.292813Z",
     "start_time": "2024-06-27T01:13:10.278620Z"
    }
   },
   "cell_type": "code",
   "source": [
    "\n",
    "tokenized_result = tokenizer(premise, hypothesis, add_special_tokens=True)\n",
    "print(tokenized_result)"
   ],
   "id": "initial_id",
   "outputs": [
    {
     "name": "stdout",
     "output_type": "stream",
     "text": [
      "{'input_ids': [315, 837, 8710], 'attention_mask': [1, 1, 1]}\n"
     ]
    }
   ],
   "execution_count": 11
  },
  {
   "metadata": {
    "ExecuteTime": {
     "end_time": "2024-06-27T01:12:06.836603Z",
     "start_time": "2024-06-27T01:12:06.658797Z"
    }
   },
   "cell_type": "code",
   "source": [
    "decoded_result = tokenizer.decode(tokenized_result['input_ids'])\n",
    "print(decoded_result)"
   ],
   "id": "10b5133ada29d3a1",
   "outputs": [
    {
     "ename": "TypeError",
     "evalue": "list indices must be integers or slices, not str",
     "output_type": "error",
     "traceback": [
      "\u001B[1;31m---------------------------------------------------------------------------\u001B[0m",
      "\u001B[1;31mTypeError\u001B[0m                                 Traceback (most recent call last)",
      "Cell \u001B[1;32mIn[7], line 1\u001B[0m\n\u001B[1;32m----> 1\u001B[0m decoded_result \u001B[38;5;241m=\u001B[39m tokenizer\u001B[38;5;241m.\u001B[39mdecode(\u001B[43mtokenized_result\u001B[49m\u001B[43m[\u001B[49m\u001B[38;5;124;43m'\u001B[39;49m\u001B[38;5;124;43minput_ids\u001B[39;49m\u001B[38;5;124;43m'\u001B[39;49m\u001B[43m]\u001B[49m)\n\u001B[0;32m      2\u001B[0m \u001B[38;5;28mprint\u001B[39m(decoded_result)\n",
      "\u001B[1;31mTypeError\u001B[0m: list indices must be integers or slices, not str"
     ]
    }
   ],
   "execution_count": 7
  },
  {
   "metadata": {},
   "cell_type": "code",
   "outputs": [],
   "execution_count": null,
   "source": "",
   "id": "d94ed3a09dcd8e58"
  }
 ],
 "metadata": {
  "kernelspec": {
   "display_name": "Python 3",
   "language": "python",
   "name": "python3"
  },
  "language_info": {
   "codemirror_mode": {
    "name": "ipython",
    "version": 2
   },
   "file_extension": ".py",
   "mimetype": "text/x-python",
   "name": "python",
   "nbconvert_exporter": "python",
   "pygments_lexer": "ipython2",
   "version": "2.7.6"
  }
 },
 "nbformat": 4,
 "nbformat_minor": 5
}
